{
 "cells": [
  {
   "cell_type": "code",
   "execution_count": 2,
   "metadata": {},
   "outputs": [],
   "source": [
    "import json\n",
    "import os\n",
    "import numpy as np\n",
    "import matplotlib.pyplot as plt\n",
    "from sklearn.metrics import r2_score\n",
    "import pickle"
   ]
  },
  {
   "cell_type": "code",
   "execution_count": 4,
   "metadata": {},
   "outputs": [
    {
     "name": "stdout",
     "output_type": "stream",
     "text": [
      "QUERY TYPE: Supervised Learning\n",
      "QUERY TYPE: Non-interactive\n",
      "QUERY TYPE: Pool-based Active Learning\n",
      "QUERY TYPE: Generative edge cases\n",
      "QUERY TYPE: Generative yes/no questions\n",
      "QUERY TYPE: Generative open-ended questions\n"
     ]
    }
   ],
   "source": [
    "FILE_PATH = 'annotations_gpt-4/annotations_gpt-4'\n",
    "\n",
    "with open(f'{FILE_PATH}/experiment_type_to_prolific_id.json') as file:\n",
    "    experiment_types = json.load(file)\n",
    "\n",
    "website_preferences = experiment_types['website_preferences']\n",
    "\n",
    "query_to_time = []\n",
    "for query_type in website_preferences:\n",
    "    print(\"QUERY TYPE:\", query_type)\n",
    "    query_avgs = []\n",
    "\n",
    "    if query_type == \"Non-interactive\":\n",
    "        continue\n",
    "\n",
    "    for i, prolific_id in enumerate(website_preferences[query_type]):\n",
    "        if (i == 0): continue\n",
    "        with open(f'{FILE_PATH}/{prolific_id}.json') as file:\n",
    "            person_data = json.load(file)\n",
    "\n",
    "        history = person_data['conversation_history']\n",
    "\n",
    "        assistant_message = None\n",
    "        for item in history:\n",
    "            if item['sender'] == 'user':\n",
    "                if assistant_message is None:\n",
    "                    continue\n",
    "                time_spent = item['time_spent_ms'] / 1000\n",
    "                query_to_time.append({\n",
    "                    \"question\": assistant_message,\n",
    "                    \"response_time\": time_spent\n",
    "                })\n",
    "                assistant_message = None\n",
    "            else: # item['sender'] == 'assistant'\n",
    "                assistant_message = item['message']\n",
    "\n",
    "with open('query_to_time_dataset.pkl', 'wb') as file:\n",
    "    pickle.dump(query_to_time, file)\n"
   ]
  }
 ],
 "metadata": {
  "kernelspec": {
   "display_name": "Python 3",
   "language": "python",
   "name": "python3"
  },
  "language_info": {
   "codemirror_mode": {
    "name": "ipython",
    "version": 3
   },
   "file_extension": ".py",
   "mimetype": "text/x-python",
   "name": "python",
   "nbconvert_exporter": "python",
   "pygments_lexer": "ipython3",
   "version": "3.12.1"
  }
 },
 "nbformat": 4,
 "nbformat_minor": 2
}
